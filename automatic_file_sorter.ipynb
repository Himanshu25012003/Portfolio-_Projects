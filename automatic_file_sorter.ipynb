{
 "cells": [
  {
   "cell_type": "code",
   "execution_count": 10,
   "id": "3ea45bc1",
   "metadata": {},
   "outputs": [],
   "source": [
    "import os, shutil"
   ]
  },
  {
   "cell_type": "code",
   "execution_count": 11,
   "id": "d9210fc8",
   "metadata": {},
   "outputs": [],
   "source": [
    "path = r\"C:/Users/HIMANSHU/OneDrive/Documents/JAVA notes/\""
   ]
  },
  {
   "cell_type": "code",
   "execution_count": 12,
   "id": "d3cbbdbd",
   "metadata": {},
   "outputs": [],
   "source": [
    "files_name = os.listdir(path)"
   ]
  },
  {
   "cell_type": "code",
   "execution_count": null,
   "id": "02f661ab",
   "metadata": {},
   "outputs": [],
   "source": [
    "folder_names = ['pdf files','ppt files','video files','other files']\n",
    "\n",
    "for loop in range(0,4):\n",
    "    if not os.path.exists(path + folder_names[loop]):\n",
    "        os.makedirs(path + folder_names[loop])\n",
    "    \n",
    "for file in files_name:\n",
    "    if \".pdf\" in file and not os.path.exists(path + \"pdf files/\" + file):\n",
    "        shutil.move(path + file,path + \"pdf files/\" + file)\n",
    "    elif \".pptx\" in file and not os.path.exists(path + \"ppt files/\" + file):\n",
    "        shutil.move(path + file,path + \"ppt files/\" + file)\n",
    "    elif \".mp4\" in file and not os.path.exists(path + \"video files/\" + file):\n",
    "        shutil.move(path + file,path + \"video files/\" + file)\n",
    "    else:\n",
    "        shutil.move(path + file,path + \"other files/\" + file)"
   ]
  }
 ],
 "metadata": {
  "kernelspec": {
   "display_name": "Python 3 (ipykernel)",
   "language": "python",
   "name": "python3"
  },
  "language_info": {
   "codemirror_mode": {
    "name": "ipython",
    "version": 3
   },
   "file_extension": ".py",
   "mimetype": "text/x-python",
   "name": "python",
   "nbconvert_exporter": "python",
   "pygments_lexer": "ipython3",
   "version": "3.11.5"
  }
 },
 "nbformat": 4,
 "nbformat_minor": 5
}
