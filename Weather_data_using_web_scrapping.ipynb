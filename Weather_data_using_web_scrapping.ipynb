{
 "cells": [
  {
   "cell_type": "markdown",
   "id": "24a8c43f",
   "metadata": {},
   "source": [
    "# WEATHER DEATILS"
   ]
  },
  {
   "cell_type": "code",
   "execution_count": 2,
   "id": "217acaa8",
   "metadata": {},
   "outputs": [],
   "source": [
    "# To get the details required to get the weather forecast of any location ,we'll make use of web scraping."
   ]
  },
  {
   "cell_type": "code",
   "execution_count": 123,
   "id": "4e682463",
   "metadata": {},
   "outputs": [],
   "source": [
    "#First ,we import BeautifulSoup library.\n",
    "from bs4 import BeautifulSoup\n",
    "import requests"
   ]
  },
  {
   "cell_type": "code",
   "execution_count": 227,
   "id": "f837bf3d",
   "metadata": {},
   "outputs": [],
   "source": [
    "#Now enter the city name whose weather details you want to find out and then create the url.\n",
    "city = \"Mumbai\"\n",
    "url = \"https://www.google.com/search?q=\"+\"weather\"+city"
   ]
  },
  {
   "cell_type": "code",
   "execution_count": 228,
   "id": "9641d0aa",
   "metadata": {
    "scrolled": false
   },
   "outputs": [],
   "source": [
    "#Now make requests instance and pass the URL to get function.\n",
    "html = requests.get(url).content\n",
    "soup = BeautifulSoup(html, 'html.parser')"
   ]
  },
  {
   "cell_type": "code",
   "execution_count": 229,
   "id": "866c9f4a",
   "metadata": {
    "scrolled": true
   },
   "outputs": [],
   "source": [
    "#Now we get the temperature and any useful information from the html in text format using find function.\n",
    "temp = soup.find('div', attrs={'class': 'BNeawe iBp4i AP7Wnd'}).text\n",
    "#we can see the initial temperature details of any city here by using\n",
    "#print(temp)\n",
    "#The code below contains the time and sky data related to the city name.\n",
    "str = soup.find('div', attrs={'class': 'BNeawe tAd8D AP7Wnd'}).text\n",
    "#We format or split the time and sky data so we can use/call them seperately.\n",
    "str_data = str.split('\\n')\n",
    "time = str_data[0]\n",
    "sky = str_data[1]"
   ]
  },
  {
   "cell_type": "code",
   "execution_count": 237,
   "id": "ca3b4460",
   "metadata": {
    "scrolled": true
   },
   "outputs": [],
   "source": [
    "#Now we shortlist all the div tags having particular class name using findAll function.\n",
    "div_list = soup.findAll('div', attrs={'class': 'BNeawe s3v9rd AP7Wnd'})\n",
    "#print(div_list)\n",
    "#And then we get the particular list with required data about our specified city name\n",
    "req_div = div_list[11].text\n",
    "#And finally we get some more data related to wind conditions and we also format the string.\n",
    "atm_condn = req_div.find('Humidity')\n",
    "other_imp_data = req_div[atm_condn:]\n"
   ]
  },
  {
   "cell_type": "code",
   "execution_count": 236,
   "id": "3bc308d9",
   "metadata": {},
   "outputs": [
    {
     "name": "stdout",
     "output_type": "stream",
     "text": [
      "City is: Mumbai\n",
      "Temperature is 32°C\n",
      "Time:  Wednesday 8:33 pm\n",
      "Sky Description:  Smoke\n",
      "Humidity. 61 · UV Index. 0 · Rainfall Probability (in %). 0 · Wind Speed (Kmph). 13 ...\n"
     ]
    }
   ],
   "source": [
    "#Printing the all the data related to the temperature of the city name.\n",
    "print(\"City is:\", city)\n",
    "print(\"Temperature is\", temp)\n",
    "print(\"Time: \", time)\n",
    "print(\"Sky Description: \", sky)\n",
    "print(other_imp_data)"
   ]
  },
  {
   "cell_type": "code",
   "execution_count": null,
   "id": "b00b75be",
   "metadata": {},
   "outputs": [],
   "source": []
  },
  {
   "cell_type": "code",
   "execution_count": null,
   "id": "962f54d9",
   "metadata": {},
   "outputs": [],
   "source": []
  },
  {
   "cell_type": "code",
   "execution_count": null,
   "id": "6f51f7fd",
   "metadata": {},
   "outputs": [],
   "source": []
  },
  {
   "cell_type": "code",
   "execution_count": null,
   "id": "9ac1459a",
   "metadata": {},
   "outputs": [],
   "source": []
  },
  {
   "cell_type": "code",
   "execution_count": null,
   "id": "469ae91b",
   "metadata": {},
   "outputs": [],
   "source": []
  },
  {
   "cell_type": "code",
   "execution_count": null,
   "id": "63fb3009",
   "metadata": {},
   "outputs": [],
   "source": []
  },
  {
   "cell_type": "code",
   "execution_count": null,
   "id": "2edcca71",
   "metadata": {},
   "outputs": [],
   "source": []
  },
  {
   "cell_type": "code",
   "execution_count": null,
   "id": "46bbc9ec",
   "metadata": {},
   "outputs": [],
   "source": []
  },
  {
   "cell_type": "code",
   "execution_count": null,
   "id": "6fdd071c",
   "metadata": {},
   "outputs": [],
   "source": []
  },
  {
   "cell_type": "code",
   "execution_count": null,
   "id": "cb33c1c0",
   "metadata": {},
   "outputs": [],
   "source": []
  },
  {
   "cell_type": "code",
   "execution_count": null,
   "id": "3f4e5f9a",
   "metadata": {},
   "outputs": [],
   "source": []
  },
  {
   "cell_type": "code",
   "execution_count": null,
   "id": "40928185",
   "metadata": {},
   "outputs": [],
   "source": []
  },
  {
   "cell_type": "code",
   "execution_count": null,
   "id": "0e53b710",
   "metadata": {},
   "outputs": [],
   "source": []
  },
  {
   "cell_type": "code",
   "execution_count": null,
   "id": "40b0e76f",
   "metadata": {},
   "outputs": [],
   "source": []
  }
 ],
 "metadata": {
  "kernelspec": {
   "display_name": "Python 3 (ipykernel)",
   "language": "python",
   "name": "python3"
  },
  "language_info": {
   "codemirror_mode": {
    "name": "ipython",
    "version": 3
   },
   "file_extension": ".py",
   "mimetype": "text/x-python",
   "name": "python",
   "nbconvert_exporter": "python",
   "pygments_lexer": "ipython3",
   "version": "3.11.5"
  }
 },
 "nbformat": 4,
 "nbformat_minor": 5
}
